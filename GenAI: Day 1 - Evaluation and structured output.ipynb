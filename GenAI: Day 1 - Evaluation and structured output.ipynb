{
 "cells": [
  {
   "cell_type": "code",
   "execution_count": 1,
   "id": "0742a0b5",
   "metadata": {
    "_cell_guid": "b1076dfc-b9ad-4769-8c92-a6c4dae69d19",
    "_uuid": "8f2839f25d086af736a60e9eeb907d3b93b6e0e5",
    "execution": {
     "iopub.execute_input": "2025-04-09T00:39:09.365548Z",
     "iopub.status.busy": "2025-04-09T00:39:09.365090Z",
     "iopub.status.idle": "2025-04-09T00:39:16.619140Z",
     "shell.execute_reply": "2025-04-09T00:39:16.617690Z"
    },
    "papermill": {
     "duration": 7.262855,
     "end_time": "2025-04-09T00:39:16.621429",
     "exception": false,
     "start_time": "2025-04-09T00:39:09.358574",
     "status": "completed"
    },
    "tags": []
   },
   "outputs": [
    {
     "name": "stdout",
     "output_type": "stream",
     "text": [
      "\u001b[2K   \u001b[90m━━━━━━━━━━━━━━━━━━━━━━━━━━━━━━━━━━━━━━━━\u001b[0m \u001b[32m144.7/144.7 kB\u001b[0m \u001b[31m4.6 MB/s\u001b[0m eta \u001b[36m0:00:00\u001b[0m\r\n",
      "\u001b[2K   \u001b[90m━━━━━━━━━━━━━━━━━━━━━━━━━━━━━━━━━━━━━━━━\u001b[0m \u001b[32m100.9/100.9 kB\u001b[0m \u001b[31m4.2 MB/s\u001b[0m eta \u001b[36m0:00:00\u001b[0m\r\n",
      "\u001b[?25h"
     ]
    }
   ],
   "source": [
    "!pip install -Uq \"google-genai==1.7.0\""
   ]
  },
  {
   "cell_type": "code",
   "execution_count": 2,
   "id": "26d0d87f",
   "metadata": {
    "execution": {
     "iopub.execute_input": "2025-04-09T00:39:16.633323Z",
     "iopub.status.busy": "2025-04-09T00:39:16.632947Z",
     "iopub.status.idle": "2025-04-09T00:39:17.991712Z",
     "shell.execute_reply": "2025-04-09T00:39:17.990501Z"
    },
    "papermill": {
     "duration": 1.367246,
     "end_time": "2025-04-09T00:39:17.994032",
     "exception": false,
     "start_time": "2025-04-09T00:39:16.626786",
     "status": "completed"
    },
    "tags": []
   },
   "outputs": [],
   "source": [
    "from google import genai\n",
    "from google.genai import types\n",
    "\n",
    "from IPython.display import Markdown , display"
   ]
  },
  {
   "cell_type": "code",
   "execution_count": 3,
   "id": "25ac561c",
   "metadata": {
    "execution": {
     "iopub.execute_input": "2025-04-09T00:39:18.006273Z",
     "iopub.status.busy": "2025-04-09T00:39:18.005726Z",
     "iopub.status.idle": "2025-04-09T00:39:18.648041Z",
     "shell.execute_reply": "2025-04-09T00:39:18.646784Z"
    },
    "papermill": {
     "duration": 0.650901,
     "end_time": "2025-04-09T00:39:18.650150",
     "exception": false,
     "start_time": "2025-04-09T00:39:17.999249",
     "status": "completed"
    },
    "tags": []
   },
   "outputs": [],
   "source": [
    "from kaggle_secrets import UserSecretsClient\n",
    "\n",
    "client = genai.Client(api_key=UserSecretsClient().get_secret(\"GOOGLE_API_KEY\"))"
   ]
  },
  {
   "cell_type": "code",
   "execution_count": 4,
   "id": "dcdef02e",
   "metadata": {
    "execution": {
     "iopub.execute_input": "2025-04-09T00:39:18.661391Z",
     "iopub.status.busy": "2025-04-09T00:39:18.661013Z",
     "iopub.status.idle": "2025-04-09T00:39:19.005051Z",
     "shell.execute_reply": "2025-04-09T00:39:19.003768Z"
    },
    "papermill": {
     "duration": 0.351997,
     "end_time": "2025-04-09T00:39:19.007172",
     "exception": false,
     "start_time": "2025-04-09T00:39:18.655175",
     "status": "completed"
    },
    "tags": []
   },
   "outputs": [],
   "source": [
    "from google.api_core import retry\n",
    "\n",
    "retriable = lambda e : (isinstance(e , genai.errors.APIError) and e.code in {429 , 503})\n",
    "\n",
    "if not hasattr(genai.models.Models.generate_content , '__wrapped__'):\n",
    "    genai.models.Models.generate_content = retry.Retry(\n",
    "        predicate = retriable)(genai.models.Models.generate_content\n",
    "    )"
   ]
  },
  {
   "cell_type": "code",
   "execution_count": 5,
   "id": "c8a4517c",
   "metadata": {
    "execution": {
     "iopub.execute_input": "2025-04-09T00:39:19.018303Z",
     "iopub.status.busy": "2025-04-09T00:39:19.017780Z",
     "iopub.status.idle": "2025-04-09T00:39:20.654035Z",
     "shell.execute_reply": "2025-04-09T00:39:20.652342Z"
    },
    "papermill": {
     "duration": 1.644486,
     "end_time": "2025-04-09T00:39:20.656539",
     "exception": false,
     "start_time": "2025-04-09T00:39:19.012053",
     "status": "completed"
    },
    "tags": []
   },
   "outputs": [
    {
     "name": "stdout",
     "output_type": "stream",
     "text": [
      "2025-04-09 00:39:19 URL:https://storage.googleapis.com/cloud-samples-data/generative-ai/pdf/2403.05530.pdf [7228817/7228817] -> \"gemini.pdf\" [1]\r\n"
     ]
    }
   ],
   "source": [
    "!wget -nv -O gemini.pdf https://storage.googleapis.com/cloud-samples-data/generative-ai/pdf/2403.05530.pdf\n",
    "\n",
    "document_file = client.files.upload(file='gemini.pdf')"
   ]
  },
  {
   "cell_type": "code",
   "execution_count": 6,
   "id": "aed47db1",
   "metadata": {
    "execution": {
     "iopub.execute_input": "2025-04-09T00:39:20.668765Z",
     "iopub.status.busy": "2025-04-09T00:39:20.668245Z",
     "iopub.status.idle": "2025-04-09T00:39:36.691753Z",
     "shell.execute_reply": "2025-04-09T00:39:36.690275Z"
    },
    "papermill": {
     "duration": 16.032724,
     "end_time": "2025-04-09T00:39:36.694445",
     "exception": false,
     "start_time": "2025-04-09T00:39:20.661721",
     "status": "completed"
    },
    "tags": []
   },
   "outputs": [
    {
     "data": {
      "text/markdown": [
       "Based on the document you provided, here's a breakdown of the training process used for Gemini 1.5 Pro:\n",
       "\n",
       "**1. Model Architecture:**\n",
       "\n",
       "*   Gemini 1.5 Pro is a **sparse mixture-of-experts (MoE) Transformer-based model.** This means it builds upon the Transformer architecture (Vaswani et al., 2017) but incorporates a MoE structure.\n",
       "*   MoE models use a **learned routing function** to direct inputs to a subset of the model's parameters for processing. This allows the model to have a large total parameter count while only activating a portion of those parameters for any given input.\n",
       "\n",
       "**2. Training Data:**\n",
       "\n",
       "*   The model is trained on a **variety of multimodal and multilingual data.**\n",
       "*   The pre-training dataset includes data sourced from many different domains, including **web documents, code, images, audio, and video content.**\n",
       "\n",
       "**3. Training Infrastructure:**\n",
       "\n",
       "*   Gemini 1.5 Pro is trained on **multiple 4096-chip pods of Google's TPUv4 accelerators**, distributed across multiple datacenters.\n",
       "\n",
       "**4. Training Process:**\n",
       "\n",
       "*   **Pre-training:** The model is initially pre-trained on the large, diverse dataset mentioned above.\n",
       "*   **Instruction Tuning:** After pre-training, Gemini 1.5 Pro is fine-tuned on a collection of multimodal data containing paired instructions and appropriate responses.\n",
       "*   **Human Preference Tuning:** Further tuning is performed based on human preference data.\n",
       "\n",
       "**Key Aspects and Innovations:**\n",
       "\n",
       "*   **Long Context Understanding:** A series of significant architecture changes enable long-context understanding of inputs up to 10 million tokens without degrading performance.\n",
       "*   **Efficiency:** Improvements across the entire model stack (architecture, data, optimization, and systems) allow Gemini 1.5 Pro to achieve comparable quality to Gemini 1.0 Ultra while using significantly less training compute and being significantly more efficient to serve.\n",
       "*   **Multimodality:** The model is natively multimodal and supports interleaving of data from different modalities (audio, visual, text, code) in the same input sequence.\n",
       "\n",
       "In summary, the training process involves a combination of large-scale pre-training on diverse multimodal data, followed by instruction tuning and human preference tuning, all leveraging a MoE architecture and Google's TPU infrastructure. A key focus is on enabling the model to handle extremely long contexts effectively.\n"
      ],
      "text/plain": [
       "<IPython.core.display.Markdown object>"
      ]
     },
     "execution_count": 6,
     "metadata": {},
     "output_type": "execute_result"
    }
   ],
   "source": [
    "request = 'Tell me about the training process used here.'\n",
    "\n",
    "def summarize_doc(request: str) -> str:\n",
    "    \"\"\"Execute the request on the uploaded document\"\"\"\n",
    "    config = types.GenerateContentConfig(temperature = 0.0)\n",
    "    response = client.models.generate_content(\n",
    "        model = 'gemini-2.0-flash',\n",
    "        config = config,\n",
    "        contents = [request , document_file]\n",
    "    )\n",
    "\n",
    "    return response.text\n",
    "\n",
    "summary = summarize_doc(request)\n",
    "Markdown(summary)\n",
    "    "
   ]
  },
  {
   "cell_type": "code",
   "execution_count": 7,
   "id": "c2f09c4d",
   "metadata": {
    "execution": {
     "iopub.execute_input": "2025-04-09T00:39:36.712601Z",
     "iopub.status.busy": "2025-04-09T00:39:36.711864Z",
     "iopub.status.idle": "2025-04-09T00:39:38.532971Z",
     "shell.execute_reply": "2025-04-09T00:39:38.531688Z"
    },
    "papermill": {
     "duration": 1.83416,
     "end_time": "2025-04-09T00:39:38.535143",
     "exception": false,
     "start_time": "2025-04-09T00:39:36.700983",
     "status": "completed"
    },
    "tags": []
   },
   "outputs": [
    {
     "data": {
      "text/markdown": [
       "## Evaluation\n",
       "STEP 1:\n",
       "The response provides a solid summarization of the document. However, it goes into too much detail for a summarization, and uses bullet points to organize the information.\n",
       "\n",
       "STEP 2:\n",
       "I will rate this response a 4 because the response follows instructions, is grounded, concise, and fluent.\n",
       "\n",
       "## Rating: 4"
      ],
      "text/plain": [
       "<IPython.core.display.Markdown object>"
      ]
     },
     "execution_count": 7,
     "metadata": {},
     "output_type": "execute_result"
    }
   ],
   "source": [
    "import enum\n",
    "\n",
    "# Define the evaluation prompt\n",
    "SUMMARY_PROMPT = \"\"\"\\\n",
    "# Instruction\n",
    "You are an expert evaluator. Your task is to evaluate the quality of the responses generated by AI models.\n",
    "We will provide you with the user input and an AI-generated responses.\n",
    "You should first read the user input carefully for analyzing the task, and then evaluate the quality of the responses based on the Criteria provided in the Evaluation section below.\n",
    "You will assign the response a rating following the Rating Rubric and Evaluation Steps. Give step-by-step explanations for your rating, and only choose ratings from the Rating Rubric.\n",
    "\n",
    "# Evaluation\n",
    "## Metric Definition\n",
    "You will be assessing summarization quality, which measures the overall ability to summarize text. Pay special attention to length constraints, such as in X words or in Y sentences. The instruction for performing a summarization task and the context to be summarized are provided in the user prompt. The response should be shorter than the text in the context. The response should not contain information that is not present in the context.\n",
    "\n",
    "## Criteria\n",
    "Instruction following: The response demonstrates a clear understanding of the summarization task instructions, satisfying all of the instruction's requirements.\n",
    "Groundedness: The response contains information included only in the context. The response does not reference any outside information.\n",
    "Conciseness: The response summarizes the relevant details in the original text without a significant loss in key information without being too verbose or terse.\n",
    "Fluency: The response is well-organized and easy to read.\n",
    "\n",
    "## Rating Rubric\n",
    "5: (Very good). The summary follows instructions, is grounded, is concise, and fluent.\n",
    "4: (Good). The summary follows instructions, is grounded, concise, and fluent.\n",
    "3: (Ok). The summary mostly follows instructions, is grounded, but is not very concise and is not fluent.\n",
    "2: (Bad). The summary is grounded, but does not follow the instructions.\n",
    "1: (Very bad). The summary is not grounded.\n",
    "\n",
    "## Evaluation Steps\n",
    "STEP 1: Assess the response in aspects of instruction following, groundedness, conciseness, and verbosity according to the criteria.\n",
    "STEP 2: Score based on the rubric.\n",
    "\n",
    "# User Inputs and AI-generated Response\n",
    "## User Inputs\n",
    "\n",
    "### Prompt\n",
    "{prompt}\n",
    "\n",
    "## AI-generated Response\n",
    "{response}\n",
    "\"\"\"\n",
    "\n",
    "class SummaryRating(enum.Enum):\n",
    "    VERY_GOOD = '5'\n",
    "    GOOD = '4'\n",
    "    OK = '3'\n",
    "    BAD = '2'\n",
    "    VERY_BAD = '1'\n",
    "\n",
    "def eval_summary(prompt , ai_response):\n",
    "    \"\"\"Evaluate the summary generated by the prompt\"\"\"\n",
    "\n",
    "    chat = client.chats.create(model = 'gemini-2.0-flash')\n",
    "\n",
    "    response = chat.send_message(\n",
    "        message = SUMMARY_PROMPT.format(prompt = prompt , response = ai_response)\n",
    "    )\n",
    "\n",
    "    verbose_eval = response.text\n",
    "\n",
    "    structured_output_config = types.GenerateContentConfig(\n",
    "        response_mime_type = \"text/x.enum\",\n",
    "        response_schema = SummaryRating\n",
    "    )\n",
    "\n",
    "    response = chat.send_message(\n",
    "        message = \"Convert the final score.\",\n",
    "        config = structured_output_config\n",
    "    )\n",
    "\n",
    "    # print(response)\n",
    "    structured_eval = response.parsed\n",
    "\n",
    "    return verbose_eval , structured_eval\n",
    "\n",
    "text_eval , struct_eval = eval_summary(prompt = [request , document_file] , ai_response = summary)\n",
    "\n",
    "Markdown(text_eval)\n",
    "    "
   ]
  },
  {
   "cell_type": "code",
   "execution_count": 8,
   "id": "9bf282b5",
   "metadata": {
    "execution": {
     "iopub.execute_input": "2025-04-09T00:39:38.547684Z",
     "iopub.status.busy": "2025-04-09T00:39:38.547210Z",
     "iopub.status.idle": "2025-04-09T00:39:38.554886Z",
     "shell.execute_reply": "2025-04-09T00:39:38.553408Z"
    },
    "papermill": {
     "duration": 0.016358,
     "end_time": "2025-04-09T00:39:38.557118",
     "exception": false,
     "start_time": "2025-04-09T00:39:38.540760",
     "status": "completed"
    },
    "tags": []
   },
   "outputs": [
    {
     "data": {
      "text/plain": [
       "<SummaryRating.GOOD: '4'>"
      ]
     },
     "execution_count": 8,
     "metadata": {},
     "output_type": "execute_result"
    }
   ],
   "source": [
    "struct_eval"
   ]
  },
  {
   "cell_type": "code",
   "execution_count": 9,
   "id": "8bb35a46",
   "metadata": {
    "execution": {
     "iopub.execute_input": "2025-04-09T00:39:38.569958Z",
     "iopub.status.busy": "2025-04-09T00:39:38.569494Z",
     "iopub.status.idle": "2025-04-09T00:39:51.189498Z",
     "shell.execute_reply": "2025-04-09T00:39:51.188264Z"
    },
    "papermill": {
     "duration": 12.628925,
     "end_time": "2025-04-09T00:39:51.191526",
     "exception": false,
     "start_time": "2025-04-09T00:39:38.562601",
     "status": "completed"
    },
    "tags": []
   },
   "outputs": [
    {
     "data": {
      "text/markdown": [
       "Okay, I can explain the training process of a large language model like Gemini 1.5 Pro in a way that a 5-year-old can understand.\n",
       "\n",
       "Imagine you have a puppy, and you want to teach it to understand and follow your instructions.\n",
       "\n",
       "1.  **Lots and Lots of Examples:** First, you show the puppy many, many examples of things you want it to learn. For example, you show it pictures of cats and say \"cat,\" pictures of dogs and say \"dog,\" and so on. You also read it lots of stories and talk to it all the time. The puppy is like the computer model, and all the pictures, stories, and conversations are the training data.\n",
       "\n",
       "2.  **Learning the Patterns:** The puppy starts to notice patterns. It sees that cats have pointy ears and whiskers, and dogs have floppy ears and wagging tails. It also learns that certain words go together, like \"good\" and \"boy.\" The computer model does the same thing. It looks for patterns in the training data and learns how words, images, and sounds are related.\n",
       "\n",
       "3.  **Making Predictions:** Now, you show the puppy a new picture, and you ask, \"What's this?\" The puppy tries to guess based on what it has learned. If it says \"cat\" when it sees a cat, that's good! If it says \"dog,\" you gently correct it. The computer model also makes predictions. It might try to guess the next word in a sentence or answer a question about a picture.\n",
       "\n",
       "4.  **Getting Better and Better:** Every time the puppy makes a mistake, you help it learn from that mistake. You give it feedback so it can do better next time. The computer model also gets feedback. It adjusts its internal settings to make better predictions in the future. This process is repeated over and over again, with more and more examples, until the puppy (or the computer model) becomes very good at understanding and following instructions.\n",
       "\n",
       "So, in short, training a large language model is like teaching a puppy: you show it lots of examples, it learns the patterns, it makes predictions, and it gets better and better with feedback. The more examples you give it, the smarter it becomes!\n",
       "-----"
      ],
      "text/plain": [
       "<IPython.core.display.Markdown object>"
      ]
     },
     "metadata": {},
     "output_type": "display_data"
    },
    {
     "data": {
      "text/markdown": [
       "## Evaluation\n",
       "STEP 1: The model does well by explaining the training process in the form of analogies, which would be understood by a 5 year old.\n",
       "STEP 2: I would rate this a 5.\n",
       "\n",
       "## Rating:\n",
       "5\n",
       "\n",
       "----"
      ],
      "text/plain": [
       "<IPython.core.display.Markdown object>"
      ]
     },
     "metadata": {},
     "output_type": "display_data"
    },
    {
     "name": "stdout",
     "output_type": "stream",
     "text": [
      "SummaryRating.VERY_GOOD\n"
     ]
    }
   ],
   "source": [
    "new_prompt = \"Explain like I'm 5 the training process\"\n",
    "\n",
    "if not new_prompt:\n",
    "    raise ValueError(\"Try setting a new summarization prompt\")\n",
    "\n",
    "def run_and_eval_summary(prompt):\n",
    "    summary = summarize_doc(new_prompt)\n",
    "    display(Markdown(summary + '\\n-----'))\n",
    "\n",
    "    text , struct = eval_summary([new_prompt , document_file] , summary)\n",
    "    display(Markdown(text + '\\n----'))\n",
    "    print(struct)\n",
    "\n",
    "run_and_eval_summary(new_prompt)"
   ]
  },
  {
   "cell_type": "code",
   "execution_count": 10,
   "id": "38158f77",
   "metadata": {
    "execution": {
     "iopub.execute_input": "2025-04-09T00:39:51.204920Z",
     "iopub.status.busy": "2025-04-09T00:39:51.204519Z",
     "iopub.status.idle": "2025-04-09T00:40:00.982630Z",
     "shell.execute_reply": "2025-04-09T00:40:00.981021Z"
    },
    "papermill": {
     "duration": 9.787486,
     "end_time": "2025-04-09T00:40:00.985005",
     "exception": false,
     "start_time": "2025-04-09T00:39:51.197519",
     "status": "completed"
    },
    "tags": []
   },
   "outputs": [
    {
     "data": {
      "text/markdown": [
       "Metrics used to evaluate long context performance include next-token prediction, recall on synthetic retrieval tasks, and performance on long-document QA, long-video QA, and long-context ASR.\n"
      ],
      "text/plain": [
       "<IPython.core.display.Markdown object>"
      ]
     },
     "execution_count": 10,
     "metadata": {},
     "output_type": "execute_result"
    }
   ],
   "source": [
    "import functools\n",
    "\n",
    "terse_guidance = \"Answer the following question in a single sentence, or as close to that as possible.\"\n",
    "moderate_guidance = \"Provide a brief answer to the following question, use a citation if necessary, but only enough to answer the question.\"\n",
    "cited_guidance = \"Provide a thorough, detailed answer to the following question, citing the document and supplying additional background information as much as possible.\"\n",
    "guidance_options = {\n",
    "    'Terse': terse_guidance,\n",
    "    'Moderate': moderate_guidance,\n",
    "    'Cited': cited_guidance,\n",
    "}\n",
    "\n",
    "questions = [\n",
    "\n",
    "    \"What metric(s) are used to evaluate long context performance?\",\n",
    "    \"How does the model perform on code tasks?\",\n",
    "    \"How many layers does it have?\",\n",
    "    \"Why is it called Gemini?\",\n",
    "]\n",
    "\n",
    "if not questions:\n",
    "  raise NotImplementedError('Add some questions to evaluate!')\n",
    "\n",
    "\n",
    "@functools.cache\n",
    "def answer_question(question: str , guidance: str = '') -> str:\n",
    "    \"\"\"Generate the answer to the question using the uploaded document and guidance\"\"\"\n",
    "\n",
    "    config = types.GenerateContentConfig(\n",
    "        temperature = 0.0,\n",
    "        system_instruction = guidance\n",
    "    )\n",
    "\n",
    "    response = client.models.generate_content(\n",
    "        model = 'gemini-2.0-flash',\n",
    "        config = config,\n",
    "        contents = [question , document_file]\n",
    "    )\n",
    "\n",
    "    return response.text\n",
    "\n",
    "answer = answer_question(questions[0] , terse_guidance)\n",
    "Markdown(answer)"
   ]
  },
  {
   "cell_type": "code",
   "execution_count": 11,
   "id": "b6f9ec83",
   "metadata": {
    "execution": {
     "iopub.execute_input": "2025-04-09T00:40:01.000212Z",
     "iopub.status.busy": "2025-04-09T00:40:00.999748Z",
     "iopub.status.idle": "2025-04-09T00:40:02.570214Z",
     "shell.execute_reply": "2025-04-09T00:40:02.568505Z"
    },
    "papermill": {
     "duration": 1.581592,
     "end_time": "2025-04-09T00:40:02.572882",
     "exception": false,
     "start_time": "2025-04-09T00:40:00.991290",
     "status": "completed"
    },
    "tags": []
   },
   "outputs": [
    {
     "data": {
      "text/markdown": [
       "STEP 1: The response is grounded since it only refers to the document provided. It also follows the instruction and answers the question completely. It is also fluent.\n",
       "STEP 2: According to the rubric, the score is 5.\n",
       "\n"
      ],
      "text/plain": [
       "<IPython.core.display.Markdown object>"
      ]
     },
     "metadata": {},
     "output_type": "display_data"
    },
    {
     "name": "stdout",
     "output_type": "stream",
     "text": [
      "AnswerRating.VERY_GOOD\n"
     ]
    }
   ],
   "source": [
    "import enum\n",
    "\n",
    "QA_PROMPT = \"\"\"\\\n",
    "# Instruction\n",
    "You are an expert evaluator. Your task is to evaluate the quality of the responses generated by AI models.\n",
    "We will provide you with the user prompt and an AI-generated responses.\n",
    "You should first read the user prompt carefully for analyzing the task, and then evaluate the quality of the responses based on and rules provided in the Evaluation section below.\n",
    "\n",
    "# Evaluation\n",
    "## Metric Definition\n",
    "You will be assessing question answering quality, which measures the overall quality of the answer to the question in the user prompt. Pay special attention to length constraints, such as in X words or in Y sentences. The instruction for performing a question-answering task is provided in the user prompt. The response should not contain information that is not present in the context (if it is provided).\n",
    "\n",
    "You will assign the writing response a score from 5, 4, 3, 2, 1, following the Rating Rubric and Evaluation Steps.\n",
    "Give step-by-step explanations for your scoring, and only choose scores from 5, 4, 3, 2, 1.\n",
    "\n",
    "## Criteria Definition\n",
    "Instruction following: The response demonstrates a clear understanding of the question answering task instructions, satisfying all of the instruction's requirements.\n",
    "Groundedness: The response contains information included only in the context if the context is present in the user prompt. The response does not reference any outside information.\n",
    "Completeness: The response completely answers the question with sufficient detail.\n",
    "Fluent: The response is well-organized and easy to read.\n",
    "\n",
    "## Rating Rubric\n",
    "5: (Very good). The answer follows instructions, is grounded, complete, and fluent.\n",
    "4: (Good). The answer follows instructions, is grounded, complete, but is not very fluent.\n",
    "3: (Ok). The answer mostly follows instructions, is grounded, answers the question partially and is not very fluent.\n",
    "2: (Bad). The answer does not follow the instructions very well, is incomplete or not fully grounded.\n",
    "1: (Very bad). The answer does not follow the instructions, is wrong and not grounded.\n",
    "\n",
    "## Evaluation Steps\n",
    "STEP 1: Assess the response in aspects of instruction following, groundedness,completeness, and fluency according to the criteria.\n",
    "STEP 2: Score based on the rubric.\n",
    "\n",
    "# User Inputs and AI-generated Response\n",
    "## User Inputs\n",
    "### Prompt\n",
    "{prompt}\n",
    "\n",
    "## AI-generated Response\n",
    "{response}\n",
    "\"\"\"\n",
    "\n",
    "class AnswerRating(enum.Enum):\n",
    "  VERY_GOOD = '5'\n",
    "  GOOD = '4'\n",
    "  OK = '3'\n",
    "  BAD = '2'\n",
    "  VERY_BAD = '1'\n",
    "\n",
    "\n",
    "@functools.cache\n",
    "def eval_answer(prompt, ai_response, n=1):\n",
    "  \"\"\"Evaluate the generated answer against the prompt/question used.\"\"\"\n",
    "  chat = client.chats.create(model='gemini-2.0-flash')\n",
    "\n",
    "  # Generate the full text response.\n",
    "  response = chat.send_message(\n",
    "      message=QA_PROMPT.format(prompt=[prompt, document_file], response=ai_response)\n",
    "  )\n",
    "  verbose_eval = response.text\n",
    "\n",
    "  # Coerce into the desired structure.\n",
    "  structured_output_config = types.GenerateContentConfig(\n",
    "      response_mime_type=\"text/x.enum\",\n",
    "      response_schema=AnswerRating,\n",
    "  )\n",
    "  response = chat.send_message(\n",
    "      message=\"Convert the final score.\",\n",
    "      config=structured_output_config,\n",
    "  )\n",
    "  structured_eval = response.parsed\n",
    "\n",
    "  return verbose_eval, structured_eval\n",
    "\n",
    "\n",
    "text_eval, struct_eval = eval_answer(prompt=questions[0], ai_response=answer)\n",
    "display(Markdown(text_eval))\n",
    "print(struct_eval)"
   ]
  },
  {
   "cell_type": "code",
   "execution_count": 12,
   "id": "2d54f85b",
   "metadata": {
    "execution": {
     "iopub.execute_input": "2025-04-09T00:40:02.589396Z",
     "iopub.status.busy": "2025-04-09T00:40:02.588255Z",
     "iopub.status.idle": "2025-04-09T00:40:03.706673Z",
     "shell.execute_reply": "2025-04-09T00:40:03.704084Z"
    },
    "papermill": {
     "duration": 1.130781,
     "end_time": "2025-04-09T00:40:03.710654",
     "exception": false,
     "start_time": "2025-04-09T00:40:02.579873",
     "status": "completed"
    },
    "tags": []
   },
   "outputs": [
    {
     "data": {
      "text/markdown": [
       "STEP 1: The response answers the question and is grounded in the document provided. The answer is complete and fluent.\n",
       "STEP 2:\n",
       "Score: 5\n"
      ],
      "text/plain": [
       "<IPython.core.display.Markdown object>"
      ]
     },
     "metadata": {},
     "output_type": "display_data"
    },
    {
     "name": "stdout",
     "output_type": "stream",
     "text": [
      "AnswerRating.VERY_GOOD\n"
     ]
    }
   ],
   "source": [
    "import enum\n",
    "\n",
    "QA_PROMPT = \"\"\"\\\n",
    "# Instruction\n",
    "You are an expert evaluator. Your task is to evaluate the quality of the responses generated by AI models.\n",
    "We will provide you with the user prompt and an AI-generated responses.\n",
    "You should first read the user prompt carefully for analyzing the task, and then evaluate the quality of the responses based on and rules provided in the Evaluation section below.\n",
    "\n",
    "# Evaluation\n",
    "## Metric Definition\n",
    "You will be assessing question answering quality, which measures the overall quality of the answer to the question in the user prompt. Pay special attention to length constraints, such as in X words or in Y sentences. The instruction for performing a question-answering task is provided in the user prompt. The response should not contain information that is not present in the context (if it is provided).\n",
    "\n",
    "You will assign the writing response a score from 5, 4, 3, 2, 1, following the Rating Rubric and Evaluation Steps.\n",
    "Give step-by-step explanations for your scoring, and only choose scores from 5, 4, 3, 2, 1.\n",
    "\n",
    "## Criteria Definition\n",
    "Instruction following: The response demonstrates a clear understanding of the question answering task instructions, satisfying all of the instruction's requirements.\n",
    "Groundedness: The response contains information included only in the context if the context is present in the user prompt. The response does not reference any outside information.\n",
    "Completeness: The response completely answers the question with sufficient detail.\n",
    "Fluent: The response is well-organized and easy to read.\n",
    "\n",
    "## Rating Rubric\n",
    "5: (Very good). The answer follows instructions, is grounded, complete, and fluent.\n",
    "4: (Good). The answer follows instructions, is grounded, complete, but is not very fluent.\n",
    "3: (Ok). The answer mostly follows instructions, is grounded, answers the question partially and is not very fluent.\n",
    "2: (Bad). The answer does not follow the instructions very well, is incomplete or not fully grounded.\n",
    "1: (Very bad). The answer does not follow the instructions, is wrong and not grounded.\n",
    "\n",
    "## Evaluation Steps\n",
    "STEP 1: Assess the response in aspects of instruction following, groundedness,completeness, and fluency according to the criteria.\n",
    "STEP 2: Score based on the rubric.\n",
    "\n",
    "# User Inputs and AI-generated Response\n",
    "## User Inputs\n",
    "### Prompt\n",
    "{prompt}\n",
    "\n",
    "## AI-generated Response\n",
    "{response}\n",
    "\"\"\"\n",
    "\n",
    "class AnswerRating(enum.Enum):\n",
    "  VERY_GOOD = '5'\n",
    "  GOOD = '4'\n",
    "  OK = '3'\n",
    "  BAD = '2'\n",
    "  VERY_BAD = '1'\n",
    "\n",
    "\n",
    "@functools.cache\n",
    "def eval_answer(prompt, ai_response, n=1):\n",
    "  \"\"\"Evaluate the generated answer against the prompt/question used.\"\"\"\n",
    "  chat = client.chats.create(model='gemini-2.0-flash')\n",
    "\n",
    "  # Generate the full text response.\n",
    "  response = chat.send_message(\n",
    "      message=QA_PROMPT.format(prompt=[prompt, document_file], response=ai_response)\n",
    "  )\n",
    "  verbose_eval = response.text\n",
    "\n",
    "  # Coerce into the desired structure.\n",
    "  structured_output_config = types.GenerateContentConfig(\n",
    "      response_mime_type=\"text/x.enum\",\n",
    "      response_schema=AnswerRating,\n",
    "  )\n",
    "  response = chat.send_message(\n",
    "      message=\"Convert the final score.\",\n",
    "      config=structured_output_config,\n",
    "  )\n",
    "  structured_eval = response.parsed\n",
    "\n",
    "  return verbose_eval, structured_eval\n",
    "\n",
    "\n",
    "text_eval, struct_eval = eval_answer(prompt=questions[0], ai_response=answer)\n",
    "display(Markdown(text_eval))\n",
    "print(struct_eval)"
   ]
  },
  {
   "cell_type": "code",
   "execution_count": 13,
   "id": "aea96775",
   "metadata": {
    "execution": {
     "iopub.execute_input": "2025-04-09T00:40:03.736262Z",
     "iopub.status.busy": "2025-04-09T00:40:03.735652Z",
     "iopub.status.idle": "2025-04-09T00:43:39.744113Z",
     "shell.execute_reply": "2025-04-09T00:43:39.742510Z"
    },
    "papermill": {
     "duration": 216.023708,
     "end_time": "2025-04-09T00:43:39.747083",
     "exception": false,
     "start_time": "2025-04-09T00:40:03.723375",
     "status": "completed"
    },
    "tags": []
   },
   "outputs": [
    {
     "data": {
      "text/markdown": [
       "## What metric(s) are used to evaluate long context performance?"
      ],
      "text/plain": [
       "<IPython.core.display.Markdown object>"
      ]
     },
     "metadata": {},
     "output_type": "display_data"
    },
    {
     "name": "stdout",
     "output_type": "stream",
     "text": [
      "Terse : AnswerRating.VERY_GOOD\n",
      "Terse : AnswerRating.VERY_GOOD\n",
      "Moderate : AnswerRating.VERY_GOOD\n",
      "Moderate : AnswerRating.VERY_GOOD\n",
      "Cited : AnswerRating.VERY_GOOD\n",
      "Cited : AnswerRating.VERY_GOOD\n"
     ]
    },
    {
     "data": {
      "text/markdown": [
       "## How does the model perform on code tasks?"
      ],
      "text/plain": [
       "<IPython.core.display.Markdown object>"
      ]
     },
     "metadata": {},
     "output_type": "display_data"
    },
    {
     "name": "stdout",
     "output_type": "stream",
     "text": [
      "Terse : AnswerRating.VERY_GOOD\n",
      "Terse : AnswerRating.VERY_GOOD\n",
      "Moderate : AnswerRating.VERY_GOOD\n",
      "Moderate : AnswerRating.VERY_GOOD\n",
      "Cited : AnswerRating.VERY_GOOD\n",
      "Cited : AnswerRating.VERY_GOOD\n"
     ]
    },
    {
     "data": {
      "text/markdown": [
       "## How many layers does it have?"
      ],
      "text/plain": [
       "<IPython.core.display.Markdown object>"
      ]
     },
     "metadata": {},
     "output_type": "display_data"
    },
    {
     "name": "stdout",
     "output_type": "stream",
     "text": [
      "Terse : AnswerRating.VERY_GOOD\n",
      "Terse : AnswerRating.VERY_GOOD\n",
      "Moderate : AnswerRating.VERY_GOOD\n",
      "Moderate : AnswerRating.VERY_GOOD\n",
      "Cited : AnswerRating.VERY_GOOD\n",
      "Cited : AnswerRating.VERY_GOOD\n"
     ]
    },
    {
     "data": {
      "text/markdown": [
       "## Why is it called Gemini?"
      ],
      "text/plain": [
       "<IPython.core.display.Markdown object>"
      ]
     },
     "metadata": {},
     "output_type": "display_data"
    },
    {
     "name": "stdout",
     "output_type": "stream",
     "text": [
      "Terse : AnswerRating.VERY_GOOD\n",
      "Terse : AnswerRating.VERY_GOOD\n",
      "Moderate : AnswerRating.VERY_GOOD\n",
      "Moderate : AnswerRating.VERY_GOOD\n",
      "Cited : AnswerRating.GOOD\n",
      "Cited : AnswerRating.GOOD\n"
     ]
    }
   ],
   "source": [
    "import collections\n",
    "import itertools\n",
    "\n",
    "NUM_ITERATIONS = 2\n",
    "\n",
    "scores = collections.defaultdict(int)\n",
    "responses = collections.defaultdict(list)\n",
    "\n",
    "for question in questions:\n",
    "    display(Markdown(f'## {question}'))\n",
    "    for guidance , guide_prompt in guidance_options.items():\n",
    "\n",
    "        for n in range(NUM_ITERATIONS):\n",
    "            answer = answer_question(question , guide_prompt)\n",
    "\n",
    "            written_eval , struct_eval = eval_answer(question , answer , n)\n",
    "\n",
    "            print(f'{guidance} : {struct_eval}')\n",
    "\n",
    "            scores[guidance] += int(struct_eval.value)\n",
    "\n",
    "            responses[(guidance , question)].append((answer , written_eval))"
   ]
  },
  {
   "cell_type": "code",
   "execution_count": 14,
   "id": "1a74a810",
   "metadata": {
    "execution": {
     "iopub.execute_input": "2025-04-09T00:43:39.768337Z",
     "iopub.status.busy": "2025-04-09T00:43:39.767850Z",
     "iopub.status.idle": "2025-04-09T00:43:39.775200Z",
     "shell.execute_reply": "2025-04-09T00:43:39.773521Z"
    },
    "papermill": {
     "duration": 0.020302,
     "end_time": "2025-04-09T00:43:39.777617",
     "exception": false,
     "start_time": "2025-04-09T00:43:39.757315",
     "status": "completed"
    },
    "tags": []
   },
   "outputs": [
    {
     "name": "stdout",
     "output_type": "stream",
     "text": [
      "Terse : 5.00 - VERY_GOOD\n",
      "Moderate : 5.00 - VERY_GOOD\n",
      "Cited : 4.75 - VERY_GOOD\n"
     ]
    }
   ],
   "source": [
    "for guidance , score in scores.items():\n",
    "    avg_score = score / (NUM_ITERATIONS * len(questions))\n",
    "    nearest = AnswerRating(str(round(avg_score)))\n",
    "    print(f'{guidance} : {avg_score:.2f} - {nearest.name}')"
   ]
  },
  {
   "cell_type": "code",
   "execution_count": 15,
   "id": "2c422fe1",
   "metadata": {
    "execution": {
     "iopub.execute_input": "2025-04-09T00:43:39.796817Z",
     "iopub.status.busy": "2025-04-09T00:43:39.796324Z",
     "iopub.status.idle": "2025-04-09T00:43:41.762315Z",
     "shell.execute_reply": "2025-04-09T00:43:41.760516Z"
    },
    "papermill": {
     "duration": 1.97799,
     "end_time": "2025-04-09T00:43:41.764068",
     "exception": false,
     "start_time": "2025-04-09T00:43:39.786078",
     "status": "completed"
    },
    "tags": []
   },
   "outputs": [
    {
     "data": {
      "text/markdown": [
       "STEP 1: Analyze Response A based on the question answering quality criteria:\n",
       "Response A provides an answer to the prompt question, but is not comprehensive.\n",
       "\n",
       "STEP 2: Analyze Response B based on the question answering quality criteria:\n",
       "Response B provides a detailed and comprehensive answer to the prompt question, and provides definitions of many of the metrics.\n",
       "\n",
       "STEP 3: Compare the overall performance of Response A and Response B based on your analyses and assessment.\n",
       "Response B is better because it provides a detailed and comprehensive answer to the prompt question.\n",
       "\n",
       "STEP 4: Output your preference of \"A\", \"SAME\" or \"B\" to the pairwise_choice field according to the Rating Rubric.\n",
       "B\n",
       "\n",
       "STEP 5: Output your assessment reasoning in the explanation field.\n",
       "Response B is better because it provides a detailed and comprehensive answer to the prompt question, and provides definitions of many of the metrics. Response A provided an answer to the prompt question, but is not comprehensive."
      ],
      "text/plain": [
       "<IPython.core.display.Markdown object>"
      ]
     },
     "metadata": {},
     "output_type": "display_data"
    },
    {
     "name": "stdout",
     "output_type": "stream",
     "text": [
      "AnswerComparison.B\n"
     ]
    }
   ],
   "source": [
    "QA_PAIRWISE_PROMPT = \"\"\"\\\n",
    "# Instruction\n",
    "You are an expert evaluator. Your task is to evaluate the quality of the responses generated by two AI models. We will provide you with the user input and a pair of AI-generated responses (Response A and Response B). You should first read the user input carefully for analyzing the task, and then evaluate the quality of the responses based on the Criteria provided in the Evaluation section below.\n",
    "\n",
    "You will first judge responses individually, following the Rating Rubric and Evaluation Steps. Then you will give step-by-step explanations for your judgment, compare results to declare the winner based on the Rating Rubric and Evaluation Steps.\n",
    "\n",
    "# Evaluation\n",
    "## Metric Definition\n",
    "You will be assessing question answering quality, which measures the overall quality of the answer to the question in the user prompt. Pay special attention to length constraints, such as in X words or in Y sentences. The instruction for performing a question-answering task is provided in the user prompt. The response should not contain information that is not present in the context (if it is provided).\n",
    "\n",
    "## Criteria\n",
    "Instruction following: The response demonstrates a clear understanding of the question answering task instructions, satisfying all of the instruction's requirements.\n",
    "Groundedness: The response contains information included only in the context if the context is present in the user prompt. The response does not reference any outside information.\n",
    "Completeness: The response completely answers the question with sufficient detail.\n",
    "Fluent: The response is well-organized and easy to read.\n",
    "\n",
    "## Rating Rubric\n",
    "\"A\": Response A answers the given question as per the criteria better than response B.\n",
    "\"SAME\": Response A and B answers the given question equally well as per the criteria.\n",
    "\"B\": Response B answers the given question as per the criteria better than response A.\n",
    "\n",
    "## Evaluation Steps\n",
    "STEP 1: Analyze Response A based on the question answering quality criteria: Determine how well Response A fulfills the user requirements, is grounded in the context, is complete and fluent, and provides assessment according to the criterion.\n",
    "STEP 2: Analyze Response B based on the question answering quality criteria: Determine how well Response B fulfills the user requirements, is grounded in the context, is complete and fluent, and provides assessment according to the criterion.\n",
    "STEP 3: Compare the overall performance of Response A and Response B based on your analyses and assessment.\n",
    "STEP 4: Output your preference of \"A\", \"SAME\" or \"B\" to the pairwise_choice field according to the Rating Rubric.\n",
    "STEP 5: Output your assessment reasoning in the explanation field.\n",
    "\n",
    "# User Inputs and AI-generated Responses\n",
    "## User Inputs\n",
    "### Prompt\n",
    "{prompt}\n",
    "\n",
    "# AI-generated Response\n",
    "\n",
    "### Response A\n",
    "{baseline_model_response}\n",
    "\n",
    "### Response B\n",
    "{response}\n",
    "\"\"\"\n",
    "\n",
    "\n",
    "class AnswerComparison(enum.Enum):\n",
    "  A = 'A'\n",
    "  SAME = 'SAME'\n",
    "  B = 'B'\n",
    "\n",
    "@functools.cache\n",
    "def eval_pairwise(prompt , response_a , response_b , n = 1):\n",
    "    \"\"\"Determine the better of two answers to the same prompt\"\"\"\n",
    "    chat = client.chats.create(model = 'gemini-2.0-flash')\n",
    "\n",
    "    response = chat.send_message(\n",
    "        message = QA_PAIRWISE_PROMPT.format(\n",
    "            prompt = [prompt , document_file],\n",
    "            baseline_model_response = response_a,\n",
    "            response = response_b\n",
    "        )\n",
    "    )\n",
    "    \n",
    "    verbose_eval = response.text\n",
    "\n",
    "    structured_output_config = types.GenerateContentConfig(\n",
    "        response_mime_type = \"text/x.enum\",\n",
    "        response_schema = AnswerComparison\n",
    "    )\n",
    "\n",
    "    response = chat.send_message(\n",
    "        message = \"Convert the final score\",\n",
    "        config = structured_output_config\n",
    "    )\n",
    "\n",
    "    structured_eval = response.parsed\n",
    "\n",
    "    return verbose_eval , structured_eval\n",
    "\n",
    "question = questions[0]\n",
    "answer_a = answer_question(question , terse_guidance)\n",
    "answer_b = answer_question(question , cited_guidance)\n",
    "\n",
    "text_eval , struct_eval = eval_pairwise(\n",
    "    prompt = question , \n",
    "    response_a = answer_a,\n",
    "    response_b = answer_b\n",
    ")\n",
    "\n",
    "display(Markdown(text_eval))\n",
    "print(struct_eval)"
   ]
  },
  {
   "cell_type": "code",
   "execution_count": 16,
   "id": "56082c07",
   "metadata": {
    "execution": {
     "iopub.execute_input": "2025-04-09T00:43:41.781813Z",
     "iopub.status.busy": "2025-04-09T00:43:41.781322Z",
     "iopub.status.idle": "2025-04-09T00:43:41.791830Z",
     "shell.execute_reply": "2025-04-09T00:43:41.790515Z"
    },
    "papermill": {
     "duration": 0.021758,
     "end_time": "2025-04-09T00:43:41.793946",
     "exception": false,
     "start_time": "2025-04-09T00:43:41.772188",
     "status": "completed"
    },
    "tags": []
   },
   "outputs": [],
   "source": [
    "@functools.total_ordering\n",
    "class QAGuidancePrompt:\n",
    "    \"\"\"A question - answering guidance prompt or system instruction\"\"\"\n",
    "\n",
    "    def __init__(self , prompt , questions , n_comparisons = NUM_ITERATIONS):\n",
    "        \"\"\"Create the prompt. Provide the questions to evaluate against and number of evals to perform\"\"\"\n",
    "        self.prompt = prompt\n",
    "        self.questions = questions\n",
    "        self.n = n_comparisons\n",
    "\n",
    "    def __str__(self):\n",
    "        return self.prompt\n",
    "\n",
    "    def _compare_all(self , other):\n",
    "        \"\"\"Compare two prompts on all questions over n trials\"\"\"\n",
    "        results = [self._compare_n(other , q) for q in questions]\n",
    "        mean = sum(results) / len(results)\n",
    "        return round(mean)\n",
    "\n",
    "    def _compare_n(self, other , question):\n",
    "        \"\"\"Compare two prompts on a question over n trials\"\"\"\n",
    "        results = [self._compare(other , question , n) for n in range(self.n)]\n",
    "        mean = sum(results) / len(results)\n",
    "        return mean\n",
    "\n",
    "    def _compare(self , other , question , n = 1):\n",
    "        \"\"\"Compare two prompts on a single question\"\"\"\n",
    "        answer_a = answer_question(question , self.prompt)\n",
    "        answer_b = answer_question(question , other.prompt)\n",
    "\n",
    "        _ , result = eval_pairwise(\n",
    "            prompt = question,\n",
    "            response_a = answer_a,\n",
    "            response_b = answer_b,\n",
    "            n = n\n",
    "        )\n",
    "\n",
    "        if result is AnswerComparison.A:\n",
    "            return 1\n",
    "        elif result is AnswerComparison.B:\n",
    "            return -1\n",
    "        else:\n",
    "            return 0\n",
    "\n",
    "    def __eq__(self , other):\n",
    "        \"\"\"Equality check that performs pairwise evaluation\"\"\"\n",
    "        if not isinstance(other , QAGuidancePrompt):\n",
    "            return NotImplemented\n",
    "\n",
    "        return self._compare_all(other) == 0\n",
    "\n",
    "    def __lt__(self , other):\n",
    "        \"\"\"Ordering check that performs pairwise evaluation\"\"\"\n",
    "        if not isinstance(other , QAGuidancePrompt):\n",
    "            return NotImplemented\n",
    "\n",
    "        return self._compare_all(other) < 0"
   ]
  },
  {
   "cell_type": "code",
   "execution_count": 17,
   "id": "d75fffa5",
   "metadata": {
    "execution": {
     "iopub.execute_input": "2025-04-09T00:43:41.811461Z",
     "iopub.status.busy": "2025-04-09T00:43:41.810970Z",
     "iopub.status.idle": "2025-04-09T00:45:27.533023Z",
     "shell.execute_reply": "2025-04-09T00:45:27.531852Z"
    },
    "papermill": {
     "duration": 105.739558,
     "end_time": "2025-04-09T00:45:27.541468",
     "exception": false,
     "start_time": "2025-04-09T00:43:41.801910",
     "status": "completed"
    },
    "tags": []
   },
   "outputs": [
    {
     "name": "stdout",
     "output_type": "stream",
     "text": [
      "#1 : Answer the following question in a single sentence, or as close to that as possible.\n",
      "------\n",
      "#2 : Provide a brief answer to the following question, use a citation if necessary, but only enough to answer the question.\n",
      "------\n",
      "#3 : Provide a thorough, detailed answer to the following question, citing the document and supplying additional background information as much as possible.\n"
     ]
    }
   ],
   "source": [
    "terse_prompt = QAGuidancePrompt(terse_guidance , questions)\n",
    "moderate_prompt = QAGuidancePrompt(moderate_guidance , questions)\n",
    "cited_prompt = QAGuidancePrompt(cited_guidance , questions)\n",
    "\n",
    "sorted_results = sorted([terse_prompt , moderate_prompt , cited_prompt] , reverse = True)\n",
    "for i , p in enumerate(sorted_results):\n",
    "    if i:\n",
    "        print('------')\n",
    "    print(f'#{i + 1} : {p}')"
   ]
  }
 ],
 "metadata": {
  "kaggle": {
   "accelerator": "none",
   "dataSources": [],
   "dockerImageVersionId": 30918,
   "isGpuEnabled": false,
   "isInternetEnabled": true,
   "language": "python",
   "sourceType": "notebook"
  },
  "kernelspec": {
   "display_name": "Python 3",
   "language": "python",
   "name": "python3"
  },
  "language_info": {
   "codemirror_mode": {
    "name": "ipython",
    "version": 3
   },
   "file_extension": ".py",
   "mimetype": "text/x-python",
   "name": "python",
   "nbconvert_exporter": "python",
   "pygments_lexer": "ipython3",
   "version": "3.10.12"
  },
  "papermill": {
   "default_parameters": {},
   "duration": 381.970696,
   "end_time": "2025-04-09T00:45:28.272085",
   "environment_variables": {},
   "exception": null,
   "input_path": "__notebook__.ipynb",
   "output_path": "__notebook__.ipynb",
   "parameters": {},
   "start_time": "2025-04-09T00:39:06.301389",
   "version": "2.6.0"
  }
 },
 "nbformat": 4,
 "nbformat_minor": 5
}
