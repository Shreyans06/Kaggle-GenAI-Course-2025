{
 "cells": [
  {
   "cell_type": "code",
   "execution_count": 1,
   "id": "60c000b5",
   "metadata": {
    "_cell_guid": "b1076dfc-b9ad-4769-8c92-a6c4dae69d19",
    "_uuid": "8f2839f25d086af736a60e9eeb907d3b93b6e0e5",
    "execution": {
     "iopub.execute_input": "2025-04-06T16:11:41.420121Z",
     "iopub.status.busy": "2025-04-06T16:11:41.419720Z",
     "iopub.status.idle": "2025-04-06T16:11:48.543337Z",
     "shell.execute_reply": "2025-04-06T16:11:48.541346Z"
    },
    "papermill": {
     "duration": 7.132622,
     "end_time": "2025-04-06T16:11:48.545711",
     "exception": false,
     "start_time": "2025-04-06T16:11:41.413089",
     "status": "completed"
    },
    "tags": []
   },
   "outputs": [
    {
     "name": "stdout",
     "output_type": "stream",
     "text": [
      "\u001b[2K   \u001b[90m━━━━━━━━━━━━━━━━━━━━━━━━━━━━━━━━━━━━━━━━\u001b[0m \u001b[32m144.7/144.7 kB\u001b[0m \u001b[31m7.4 MB/s\u001b[0m eta \u001b[36m0:00:00\u001b[0m\r\n",
      "\u001b[2K   \u001b[90m━━━━━━━━━━━━━━━━━━━━━━━━━━━━━━━━━━━━━━━━\u001b[0m \u001b[32m100.9/100.9 kB\u001b[0m \u001b[31m4.8 MB/s\u001b[0m eta \u001b[36m0:00:00\u001b[0m\r\n",
      "\u001b[?25h"
     ]
    }
   ],
   "source": [
    "!pip install -U -q \"google-genai==1.7.0\""
   ]
  },
  {
   "cell_type": "code",
   "execution_count": 2,
   "id": "7536a065",
   "metadata": {
    "execution": {
     "iopub.execute_input": "2025-04-06T16:11:48.558525Z",
     "iopub.status.busy": "2025-04-06T16:11:48.558156Z",
     "iopub.status.idle": "2025-04-06T16:11:49.921108Z",
     "shell.execute_reply": "2025-04-06T16:11:49.919929Z"
    },
    "papermill": {
     "duration": 1.371478,
     "end_time": "2025-04-06T16:11:49.922882",
     "exception": false,
     "start_time": "2025-04-06T16:11:48.551404",
     "status": "completed"
    },
    "tags": []
   },
   "outputs": [],
   "source": [
    "from google import genai\n",
    "from google.genai import types\n",
    "\n",
    "from IPython.display import HTML , Markdown , display"
   ]
  },
  {
   "cell_type": "code",
   "execution_count": 3,
   "id": "f9af8837",
   "metadata": {
    "execution": {
     "iopub.execute_input": "2025-04-06T16:11:49.934167Z",
     "iopub.status.busy": "2025-04-06T16:11:49.933532Z",
     "iopub.status.idle": "2025-04-06T16:11:50.179752Z",
     "shell.execute_reply": "2025-04-06T16:11:50.178420Z"
    },
    "papermill": {
     "duration": 0.253877,
     "end_time": "2025-04-06T16:11:50.181710",
     "exception": false,
     "start_time": "2025-04-06T16:11:49.927833",
     "status": "completed"
    },
    "tags": []
   },
   "outputs": [],
   "source": [
    "from google.api_core import retry\n",
    "\n",
    "can_retry = lambda e: (isinstance(e , genai.errors.APIError) and e.code in {429 , 503})\n",
    "\n",
    "genai.models.Models.generate_content = retry.Retry(\n",
    "    predicate = can_retry)( genai.models.Models.generate_content\n",
    ")"
   ]
  },
  {
   "cell_type": "code",
   "execution_count": 4,
   "id": "f99bd29e",
   "metadata": {
    "execution": {
     "iopub.execute_input": "2025-04-06T16:11:50.194583Z",
     "iopub.status.busy": "2025-04-06T16:11:50.194065Z",
     "iopub.status.idle": "2025-04-06T16:11:50.369830Z",
     "shell.execute_reply": "2025-04-06T16:11:50.368755Z"
    },
    "papermill": {
     "duration": 0.183722,
     "end_time": "2025-04-06T16:11:50.371912",
     "exception": false,
     "start_time": "2025-04-06T16:11:50.188190",
     "status": "completed"
    },
    "tags": []
   },
   "outputs": [],
   "source": [
    "from kaggle_secrets import UserSecretsClient\n",
    "\n",
    "GOOGLE_API_KEY = UserSecretsClient().get_secret(\"GOOGLE_API_KEY\")"
   ]
  },
  {
   "cell_type": "code",
   "execution_count": 5,
   "id": "6fabb80d",
   "metadata": {
    "execution": {
     "iopub.execute_input": "2025-04-06T16:11:50.384037Z",
     "iopub.status.busy": "2025-04-06T16:11:50.383597Z",
     "iopub.status.idle": "2025-04-06T16:11:58.492483Z",
     "shell.execute_reply": "2025-04-06T16:11:58.491379Z"
    },
    "papermill": {
     "duration": 8.117445,
     "end_time": "2025-04-06T16:11:58.494585",
     "exception": false,
     "start_time": "2025-04-06T16:11:50.377140",
     "status": "completed"
    },
    "tags": []
   },
   "outputs": [],
   "source": [
    "client = genai.Client(api_key = GOOGLE_API_KEY)\n",
    "\n",
    "response = client.models.generate_content(\n",
    "    model = \"gemini-2.0-flash\",\n",
    "    contents = \"Tell me about Gemini 2.0 SDK ?\"\n",
    ")\n"
   ]
  },
  {
   "cell_type": "code",
   "execution_count": 6,
   "id": "f4ab7c24",
   "metadata": {
    "execution": {
     "iopub.execute_input": "2025-04-06T16:11:58.505947Z",
     "iopub.status.busy": "2025-04-06T16:11:58.505529Z",
     "iopub.status.idle": "2025-04-06T16:11:58.513321Z",
     "shell.execute_reply": "2025-04-06T16:11:58.512189Z"
    },
    "papermill": {
     "duration": 0.01562,
     "end_time": "2025-04-06T16:11:58.515309",
     "exception": false,
     "start_time": "2025-04-06T16:11:58.499689",
     "status": "completed"
    },
    "tags": []
   },
   "outputs": [
    {
     "data": {
      "text/markdown": [
       "The Gemini 2.0 SDK is a crucial component for developers looking to integrate Google's powerful Gemini models into their applications. It's essentially a set of tools, libraries, and documentation that streamline the process of interacting with these models. Here's a breakdown of what it entails:\n",
       "\n",
       "**What is Gemini?**\n",
       "\n",
       "First, a brief recap of Gemini itself.  Gemini is Google's family of multimodal AI models.  This means they can process and generate content across different modalities, including text, images, audio, and video.  They are designed to be highly capable and versatile, suitable for a wide range of tasks from content generation and translation to complex reasoning and coding.\n",
       "\n",
       "**The Purpose of the Gemini 2.0 SDK**\n",
       "\n",
       "The Gemini 2.0 SDK serves as the bridge between your application and the Gemini AI models. It provides:\n",
       "\n",
       "*   **Abstraction:** It hides the complexity of directly interacting with the raw API of the models.  You don't need to worry about the intricate details of request formatting or authentication.\n",
       "*   **Convenience:** Offers high-level functions and classes tailored to common tasks, making it easier to build integrations quickly.\n",
       "*   **Language Support:** Typically supports popular programming languages like Python, JavaScript, and potentially others.\n",
       "*   **Tools and Libraries:** Includes libraries for handling data input, pre-processing, and post-processing of results.\n",
       "*   **Documentation and Examples:** Provides comprehensive documentation with clear examples to guide developers through the integration process.\n",
       "*   **Authentication and Authorization:** Manages authentication and authorization to access the Gemini models securely.\n",
       "\n",
       "**Key Features and Capabilities You Can Expect:**\n",
       "\n",
       "*   **Text Generation:** Create different kinds of creative text formats, like poems, code, scripts, musical pieces, email, letters, etc., and answer your questions in an informative way.\n",
       "*   **Image Understanding & Generation:** Analyze image content, describe objects, and potentially generate new images based on prompts (depending on the specific Gemini model capabilities).\n",
       "*   **Audio Processing:** Transcribe audio, generate audio from text, and perform audio analysis (again, depending on the specific model and SDK features).\n",
       "*   **Multimodal Input:** Combine text, images, and other modalities as input to the Gemini models for more complex tasks. For example, you might provide an image and a question to get a contextual answer.\n",
       "*   **Content Moderation:** Tools to help you filter out harmful or inappropriate content generated by the models.\n",
       "*   **Function Calling (Tools):**  Gemini can use Tools that you provide.  Tools are basically function definitions (name, description, parameters) and your application provides the *implementation* of the functions.  Gemini can \"call\" those functions to get information, then use that information to further answer the user's query. This allows Gemini to interact with external services (e.g., a weather API, a search engine).\n",
       "*   **Streaming:** Receive responses from Gemini in real-time as they are generated, allowing for a more interactive user experience.\n",
       "*   **Error Handling:**  Mechanisms for handling errors and exceptions that may occur during interaction with the models.\n",
       "*   **Rate Limiting and Usage Monitoring:**  May include features for managing your API usage and staying within rate limits.\n",
       "*   **Fine-tuning:**  Potentially allows fine-tuning of the Gemini models on your own data for more specific tasks (depending on the specific model and access).\n",
       "\n",
       "**How to Use the Gemini 2.0 SDK (General Steps):**\n",
       "\n",
       "1.  **Obtain API Key/Credentials:** You'll need to obtain an API key or service account credentials from Google Cloud to access the Gemini models.  This usually involves signing up for a Google Cloud Platform (GCP) account and enabling the Gemini API.\n",
       "2.  **Install the SDK:** Install the SDK for your chosen programming language using package managers like `pip` (Python) or `npm` (JavaScript).\n",
       "3.  **Authentication:**  Authenticate your application using your API key or credentials.\n",
       "4.  **Create a Client:**  Create a client object that represents the Gemini model you want to use.\n",
       "5.  **Call the API:** Use the SDK's functions to send requests to the model and receive responses.\n",
       "6.  **Process the Results:**  Parse and process the results returned by the model.\n",
       "7.  **Handle Errors:** Implement error handling to gracefully handle any issues that may arise.\n",
       "\n",
       "**Example (Python - Hypothetical):**\n",
       "\n",
       "```python\n",
       "from gemini_sdk import GeminiClient\n",
       "\n",
       "# Initialize the client with your API key\n",
       "client = GeminiClient(api_key=\"YOUR_API_KEY\")\n",
       "\n",
       "# Generate text based on a prompt\n",
       "prompt = \"Write a short story about a cat who becomes a detective.\"\n",
       "response = client.generate_text(prompt=prompt)\n",
       "\n",
       "# Print the generated text\n",
       "print(response.text)\n",
       "\n",
       "#Image Analysis\n",
       "image_path = \"path/to/image.jpg\"\n",
       "image_description = client.describe_image(image_path=image_path)\n",
       "print(image_description.text)\n",
       "```\n",
       "\n",
       "**Where to Find the SDK and Documentation:**\n",
       "\n",
       "*   The official Google AI developer documentation is the primary source for the SDK. Look for sections related to Gemini. You can usually find it by searching on Google for \"Gemini API Documentation\".\n",
       "*   Look for code examples and tutorials in the official documentation and on sites like GitHub and Medium.\n",
       "\n",
       "**Important Considerations:**\n",
       "\n",
       "*   **Responsible AI:** Google emphasizes responsible AI development. The SDK likely includes features and guidelines to help developers use the models ethically and responsibly, including considering bias, fairness, and safety.\n",
       "*   **Pricing:**  Be aware of the pricing model for using the Gemini models.  Google typically charges based on usage (e.g., the number of tokens processed).\n",
       "*   **Model Availability:**  The specific Gemini models available through the SDK may vary depending on your access level and location.\n",
       "*   **Evolving Technology:**  The Gemini models and the SDK are continuously evolving.  Stay up-to-date with the latest releases and documentation.\n",
       "\n",
       "**In summary, the Gemini 2.0 SDK is a powerful tool for developers who want to leverage the capabilities of Google's Gemini AI models in their applications.  It simplifies the integration process, provides convenient APIs, and supports responsible AI development.** Remember to consult the official Google AI documentation for the most accurate and up-to-date information.\n"
      ],
      "text/plain": [
       "<IPython.core.display.Markdown object>"
      ]
     },
     "execution_count": 6,
     "metadata": {},
     "output_type": "execute_result"
    }
   ],
   "source": [
    "Markdown(response.text)"
   ]
  },
  {
   "cell_type": "markdown",
   "id": "e1fa3641",
   "metadata": {
    "papermill": {
     "duration": 0.004852,
     "end_time": "2025-04-06T16:11:58.525628",
     "exception": false,
     "start_time": "2025-04-06T16:11:58.520776",
     "status": "completed"
    },
    "tags": []
   },
   "source": [
    "# Create a Chat structure"
   ]
  },
  {
   "cell_type": "code",
   "execution_count": 7,
   "id": "8b3dd295",
   "metadata": {
    "execution": {
     "iopub.execute_input": "2025-04-06T16:11:58.537808Z",
     "iopub.status.busy": "2025-04-06T16:11:58.537385Z",
     "iopub.status.idle": "2025-04-06T16:11:59.000328Z",
     "shell.execute_reply": "2025-04-06T16:11:58.999046Z"
    },
    "papermill": {
     "duration": 0.471738,
     "end_time": "2025-04-06T16:11:59.002537",
     "exception": false,
     "start_time": "2025-04-06T16:11:58.530799",
     "status": "completed"
    },
    "tags": []
   },
   "outputs": [
    {
     "name": "stdout",
     "output_type": "stream",
     "text": [
      "Hello Tony! It's nice to meet you. How can I help you today?\n",
      "\n"
     ]
    }
   ],
   "source": [
    "chat = client.chats.create(model = 'gemini-2.0-flash' , history = [])\n",
    "\n",
    "response = chat.send_message(\"Hello! My name is Tony\")\n",
    "\n",
    "print(response.text)"
   ]
  },
  {
   "cell_type": "code",
   "execution_count": 8,
   "id": "5e1536f4",
   "metadata": {
    "execution": {
     "iopub.execute_input": "2025-04-06T16:11:59.014978Z",
     "iopub.status.busy": "2025-04-06T16:11:59.014574Z",
     "iopub.status.idle": "2025-04-06T16:12:03.704604Z",
     "shell.execute_reply": "2025-04-06T16:12:03.703264Z"
    },
    "papermill": {
     "duration": 4.698712,
     "end_time": "2025-04-06T16:12:03.706800",
     "exception": false,
     "start_time": "2025-04-06T16:11:59.008088",
     "status": "completed"
    },
    "tags": []
   },
   "outputs": [
    {
     "name": "stdout",
     "output_type": "stream",
     "text": [
      "Okay, let's dive into tariffs. To give you the most helpful information, tell me what you'd like to know. Tariffs are a broad topic, so to narrow it down, consider these questions:\n",
      "\n",
      "*   **What kind of tariffs are you interested in?** For example, are you thinking about tariffs between specific countries (like the US and China), tariffs on particular goods (like steel or agricultural products), or tariffs in a general sense?\n",
      "*   **Why are you interested in tariffs?** Are you trying to understand their impact on consumers, businesses, or the global economy? Are you looking for historical context, current events, or future implications?\n",
      "*   **What's your current understanding of tariffs?** This will help me avoid explaining things you already know.\n",
      "\n",
      "In the meantime, here's a general overview of tariffs:\n",
      "\n",
      "**What is a tariff?**\n",
      "\n",
      "A tariff is a tax or duty imposed by a government on goods or services imported from another country. They are usually levied as a percentage of the value of the goods (ad valorem tariff), as a fixed amount per unit (specific tariff), or a combination of both (compound tariff).\n",
      "\n",
      "**Purposes of Tariffs:**\n",
      "\n",
      "*   **Protecting Domestic Industries:** Tariffs can make imported goods more expensive, thus making domestically produced goods more competitive. This can protect jobs and industries within the country imposing the tariff.\n",
      "*   **Generating Revenue:** Tariffs can be a source of revenue for the government, although this is often a secondary consideration.\n",
      "*   **National Security:** Tariffs can be used to protect industries deemed vital to national security, such as steel or defense-related industries.\n",
      "*   **Retaliation:** Tariffs can be used as a tool for retaliation against other countries' trade policies or unfair trade practices.\n",
      "*   **Encouraging Domestic Production:** By making imports more expensive, tariffs can incentivize companies to produce goods domestically.\n",
      "\n",
      "**Effects of Tariffs:**\n",
      "\n",
      "*   **Higher Prices for Consumers:** Tariffs generally lead to higher prices for consumers, as importers pass on the cost of the tariff.\n",
      "*   **Reduced Trade:** Tariffs can reduce the volume of international trade, as imported goods become less attractive.\n",
      "*   **Benefits to Domestic Producers:** Domestic producers can benefit from tariffs as they face less competition from imports.\n",
      "*   **Potential for Retaliation:** Tariffs can lead to retaliatory tariffs from other countries, resulting in trade wars.\n",
      "*   **Distortion of Global Markets:** Tariffs can distort global markets by interfering with the natural flow of goods and services.\n",
      "*   **Impact on Economic Growth:** The overall impact on economic growth is debated, but tariffs can potentially harm economic growth by increasing costs and reducing trade.\n",
      "\n",
      "**Examples of Tariff Use:**\n",
      "\n",
      "*   **Historically:** The Smoot-Hawley Tariff Act in the United States in the 1930s is often cited as an example of how tariffs can worsen an economic depression.\n",
      "*   **Currently:** The US has imposed tariffs on steel and aluminum imports from various countries, citing national security concerns. The US-China trade war involved tariffs on a wide range of goods traded between the two countries.\n",
      "\n",
      "**Different Types of Tariffs:**\n",
      "\n",
      "*   **Ad Valorem Tariffs:** A percentage of the value of the imported good.\n",
      "*   **Specific Tariffs:** A fixed fee per unit of the imported good.\n",
      "*   **Compound Tariffs:** A combination of ad valorem and specific tariffs.\n",
      "*   **Protective Tariffs:** Designed to protect domestic industries.\n",
      "*   **Revenue Tariffs:** Designed to raise revenue for the government.\n",
      "*   **Retaliatory Tariffs:** Imposed in response to tariffs imposed by another country.\n",
      "\n",
      "To help me give you more specific and helpful information, please tell me what aspects of tariffs you're most interested in.\n",
      "\n"
     ]
    }
   ],
   "source": [
    "response = chat.send_message(\"Can you tell me more about the tariffs?\")\n",
    "print(response.text)"
   ]
  },
  {
   "cell_type": "code",
   "execution_count": 9,
   "id": "c11fd789",
   "metadata": {
    "execution": {
     "iopub.execute_input": "2025-04-06T16:12:03.720181Z",
     "iopub.status.busy": "2025-04-06T16:12:03.719817Z",
     "iopub.status.idle": "2025-04-06T16:12:04.176546Z",
     "shell.execute_reply": "2025-04-06T16:12:04.175424Z"
    },
    "papermill": {
     "duration": 0.465139,
     "end_time": "2025-04-06T16:12:04.178207",
     "exception": false,
     "start_time": "2025-04-06T16:12:03.713068",
     "status": "completed"
    },
    "tags": []
   },
   "outputs": [
    {
     "name": "stdout",
     "output_type": "stream",
     "text": [
      "Yes, Tony! I remember your name.\n",
      "\n"
     ]
    }
   ],
   "source": [
    "response = chat.send_message(\"Do you remember my name?\")\n",
    "print(response.text)"
   ]
  },
  {
   "cell_type": "code",
   "execution_count": 10,
   "id": "1f166b55",
   "metadata": {
    "execution": {
     "iopub.execute_input": "2025-04-06T16:12:04.190185Z",
     "iopub.status.busy": "2025-04-06T16:12:04.189818Z",
     "iopub.status.idle": "2025-04-06T16:12:04.363693Z",
     "shell.execute_reply": "2025-04-06T16:12:04.362507Z"
    },
    "papermill": {
     "duration": 0.182021,
     "end_time": "2025-04-06T16:12:04.365603",
     "exception": false,
     "start_time": "2025-04-06T16:12:04.183582",
     "status": "completed"
    },
    "tags": []
   },
   "outputs": [
    {
     "name": "stdout",
     "output_type": "stream",
     "text": [
      "models/chat-bison-001\n",
      "models/text-bison-001\n",
      "models/embedding-gecko-001\n",
      "models/gemini-1.0-pro-vision-latest\n",
      "models/gemini-pro-vision\n",
      "models/gemini-1.5-pro-latest\n",
      "models/gemini-1.5-pro-001\n",
      "models/gemini-1.5-pro-002\n",
      "models/gemini-1.5-pro\n",
      "models/gemini-1.5-flash-latest\n",
      "models/gemini-1.5-flash-001\n",
      "models/gemini-1.5-flash-001-tuning\n",
      "models/gemini-1.5-flash\n",
      "models/gemini-1.5-flash-002\n",
      "models/gemini-1.5-flash-8b\n",
      "models/gemini-1.5-flash-8b-001\n",
      "models/gemini-1.5-flash-8b-latest\n",
      "models/gemini-1.5-flash-8b-exp-0827\n",
      "models/gemini-1.5-flash-8b-exp-0924\n",
      "models/gemini-2.5-pro-exp-03-25\n",
      "models/gemini-2.5-pro-preview-03-25\n",
      "models/gemini-2.0-flash-exp\n",
      "models/gemini-2.0-flash\n",
      "models/gemini-2.0-flash-001\n",
      "models/gemini-2.0-flash-exp-image-generation\n",
      "models/gemini-2.0-flash-lite-001\n",
      "models/gemini-2.0-flash-lite\n",
      "models/gemini-2.0-flash-lite-preview-02-05\n",
      "models/gemini-2.0-flash-lite-preview\n",
      "models/gemini-2.0-pro-exp\n",
      "models/gemini-2.0-pro-exp-02-05\n",
      "models/gemini-exp-1206\n",
      "models/gemini-2.0-flash-thinking-exp-01-21\n",
      "models/gemini-2.0-flash-thinking-exp\n",
      "models/gemini-2.0-flash-thinking-exp-1219\n",
      "models/learnlm-1.5-pro-experimental\n",
      "models/gemma-3-1b-it\n",
      "models/gemma-3-4b-it\n",
      "models/gemma-3-12b-it\n",
      "models/gemma-3-27b-it\n",
      "models/embedding-001\n",
      "models/text-embedding-004\n",
      "models/gemini-embedding-exp-03-07\n",
      "models/gemini-embedding-exp\n",
      "models/aqa\n",
      "models/imagen-3.0-generate-002\n"
     ]
    }
   ],
   "source": [
    "for model in client.models.list():\n",
    "    print(model.name)"
   ]
  },
  {
   "cell_type": "code",
   "execution_count": 11,
   "id": "817a63d9",
   "metadata": {
    "execution": {
     "iopub.execute_input": "2025-04-06T16:12:04.378457Z",
     "iopub.status.busy": "2025-04-06T16:12:04.378071Z",
     "iopub.status.idle": "2025-04-06T16:12:04.545688Z",
     "shell.execute_reply": "2025-04-06T16:12:04.544213Z"
    },
    "papermill": {
     "duration": 0.176405,
     "end_time": "2025-04-06T16:12:04.547789",
     "exception": false,
     "start_time": "2025-04-06T16:12:04.371384",
     "status": "completed"
    },
    "tags": []
   },
   "outputs": [
    {
     "name": "stdout",
     "output_type": "stream",
     "text": [
      "{'description': 'Gemini 2.0 Flash',\n",
      " 'display_name': 'Gemini 2.0 Flash',\n",
      " 'input_token_limit': 1048576,\n",
      " 'name': 'models/gemini-2.0-flash',\n",
      " 'output_token_limit': 8192,\n",
      " 'supported_actions': ['generateContent', 'countTokens'],\n",
      " 'tuned_model_info': {},\n",
      " 'version': '2.0'}\n"
     ]
    }
   ],
   "source": [
    "from pprint import pprint\n",
    "\n",
    "for model in client.models.list():\n",
    "    if model.name == \"models/gemini-2.0-flash\":\n",
    "        pprint(model.to_json_dict())\n",
    "        break"
   ]
  },
  {
   "cell_type": "code",
   "execution_count": 12,
   "id": "f426ef55",
   "metadata": {
    "execution": {
     "iopub.execute_input": "2025-04-06T16:12:04.561199Z",
     "iopub.status.busy": "2025-04-06T16:12:04.560754Z",
     "iopub.status.idle": "2025-04-06T16:12:06.150110Z",
     "shell.execute_reply": "2025-04-06T16:12:06.148481Z"
    },
    "papermill": {
     "duration": 1.598643,
     "end_time": "2025-04-06T16:12:06.152599",
     "exception": false,
     "start_time": "2025-04-06T16:12:04.553956",
     "status": "completed"
    },
    "tags": []
   },
   "outputs": [
    {
     "name": "stdout",
     "output_type": "stream",
     "text": [
      "## The Double-Edged Sword: Tariffs and Their Impact on the US Economy\n",
      "\n",
      "Tariffs, taxes imposed on imported goods, have long been a tool wielded by the United States government to influence the economic landscape. While proponents tout their ability to protect domestic industries and generate revenue, critics argue that they ultimately stifle competition, raise prices for consumers, and disrupt global trade. The impact of tariffs on the US economy is therefore complex and multifaceted, resembling a double-edged sword with both potential benefits and significant drawbacks.\n",
      "\n",
      "One of the primary arguments in favor of tariffs is their potential to protect domestic industries. By making imported goods more expensive, tariffs can create a competitive advantage for US businesses, allowing them to increase production, employment, and investment. This is particularly appealing when facing unfair competition from foreign companies that benefit from subsidies or lower labor costs. For example, tariffs on steel imports, as seen during the Trump administration, were intended to revitalize the struggling US steel industry and protect American jobs. In\n"
     ]
    }
   ],
   "source": [
    "from google.genai import types\n",
    "\n",
    "short_config = types.GenerateContentConfig(max_output_tokens = 200)\n",
    "\n",
    "response = client.models.generate_content(\n",
    "    model = 'gemini-2.0-flash',\n",
    "    config = short_config,\n",
    "    contents = 'Write an essay about the impact of tariff\\'s on US economy'\n",
    ")\n",
    "\n",
    "print(response.text)"
   ]
  },
  {
   "cell_type": "code",
   "execution_count": 13,
   "id": "710b47f7",
   "metadata": {
    "execution": {
     "iopub.execute_input": "2025-04-06T16:12:06.165972Z",
     "iopub.status.busy": "2025-04-06T16:12:06.165580Z",
     "iopub.status.idle": "2025-04-06T16:12:08.202069Z",
     "shell.execute_reply": "2025-04-06T16:12:08.200893Z"
    },
    "papermill": {
     "duration": 2.044905,
     "end_time": "2025-04-06T16:12:08.203846",
     "exception": false,
     "start_time": "2025-04-06T16:12:06.158941",
     "status": "completed"
    },
    "tags": []
   },
   "outputs": [
    {
     "name": "stdout",
     "output_type": "stream",
     "text": [
      "Orange\n",
      " -------------------------\n",
      "Cerulean\n",
      " -------------------------\n",
      "Magenta\n",
      " -------------------------\n",
      "Lavender\n",
      " -------------------------\n",
      "Teal\n",
      " -------------------------\n"
     ]
    }
   ],
   "source": [
    "high_temp_config = types.GenerateContentConfig(temperature = 2.0)\n",
    "\n",
    "for _ in range(5):\n",
    "    response = client.models.generate_content(\n",
    "        model = 'gemini-2.0-flash',\n",
    "        config = high_temp_config,\n",
    "        contents = 'Pick a random color... (respond in a single word)'\n",
    "    )\n",
    "    if response.text:\n",
    "        print(response.text , '-' * 25)"
   ]
  },
  {
   "cell_type": "code",
   "execution_count": 14,
   "id": "5762fd80",
   "metadata": {
    "execution": {
     "iopub.execute_input": "2025-04-06T16:12:08.217634Z",
     "iopub.status.busy": "2025-04-06T16:12:08.217292Z",
     "iopub.status.idle": "2025-04-06T16:12:10.370885Z",
     "shell.execute_reply": "2025-04-06T16:12:10.369395Z"
    },
    "papermill": {
     "duration": 2.162315,
     "end_time": "2025-04-06T16:12:10.372701",
     "exception": false,
     "start_time": "2025-04-06T16:12:08.210386",
     "status": "completed"
    },
    "tags": []
   },
   "outputs": [
    {
     "name": "stdout",
     "output_type": "stream",
     "text": [
      "Magenta\n",
      " -------------------------\n",
      "Magenta\n",
      " -------------------------\n",
      "Magenta\n",
      " -------------------------\n",
      "Magenta\n",
      " -------------------------\n",
      "Magenta\n",
      " -------------------------\n"
     ]
    }
   ],
   "source": [
    "low_temp_config = types.GenerateContentConfig(temperature = 0.0)\n",
    "\n",
    "for _ in range(5):\n",
    "    response = client.models.generate_content(\n",
    "        model = 'gemini-2.0-flash',\n",
    "        config = low_temp_config,\n",
    "        contents = 'Pick a random color... (respond in a single word)'\n",
    "    )\n",
    "    if response.text:\n",
    "        print(response.text , '-' * 25)"
   ]
  },
  {
   "cell_type": "code",
   "execution_count": 15,
   "id": "54c70dff",
   "metadata": {
    "execution": {
     "iopub.execute_input": "2025-04-06T16:12:10.387335Z",
     "iopub.status.busy": "2025-04-06T16:12:10.386936Z",
     "iopub.status.idle": "2025-04-06T16:12:14.073099Z",
     "shell.execute_reply": "2025-04-06T16:12:14.071873Z"
    },
    "papermill": {
     "duration": 3.696306,
     "end_time": "2025-04-06T16:12:14.075309",
     "exception": false,
     "start_time": "2025-04-06T16:12:10.379003",
     "status": "completed"
    },
    "tags": []
   },
   "outputs": [
    {
     "name": "stdout",
     "output_type": "stream",
     "text": [
      "## The Tariff Tightrope: US Economy Wobbles Under Import Taxes\n",
      "\n",
      "**Gary, Indiana -** The rhythmic clang of metal on metal used to be the soundtrack of Gary, Indiana. For decades, US Steel's sprawling plant here fueled the city, employing generations. But today, the clang is fainter, a ghostly echo of its former glory. The culprit? Tariffs, specifically those slapped on imported steel.\n",
      "\n",
      "\"They promised us these tariffs would bring jobs back,\" says Maria Rodriguez, a third-generation steelworker laid off just last month. \"Instead, our company is paying more for imported components. They can't compete with the finished products coming in from overseas, even *with* the tariffs.\"\n",
      "\n",
      "Rodriguez's story is echoed across the nation. While the intention behind tariffs – import taxes designed to protect domestic industries and jobs – may be noble, the reality has been more complex, often detrimental.\n",
      "\n",
      "Here in Gary, US Steel has struggled to fully capitalize on the tariff-induced price advantage. While demand for domestic steel saw an initial bump, the rising cost of imported steel components used in manufacturing has hampered production and squeezed profit margins.\n",
      "\n",
      "\"It's a double-edged sword,\" explains Dr. Emily Carter, an economist at the University of Chicago. \"The tariffs are supposed to protect domestic industries, but they also increase costs for businesses that rely on imported raw materials or components. This can lead to higher prices for consumers, reduced competitiveness for American companies in export markets, and, ultimately, job losses.\"\n",
      "\n",
      "The impact isn't confined to steel towns. Farmers across the Midwest, particularly soybean farmers, have faced retaliatory tariffs from countries like China, drastically reducing their export markets.\n",
      "\n",
      "\"We're sitting on mountains of soybeans,\" laments Dale Johnson, a farmer in Iowa. \"The prices have plummeted. We're losing money every day.\"\n",
      "\n",
      "While some sectors, like domestic aluminum producers, have seen benefits from tariffs, the overall picture paints a less rosy portrait. The US Chamber of Commerce estimates that the tariffs have cost the US economy billions of dollars in lost trade and business investment.\n",
      "\n",
      "The tariff debate continues to rage in Washington. Proponents argue they are necessary to level the playing field with countries that engage in unfair trade practices. Opponents warn of the devastating consequences for American businesses and consumers.\n",
      "\n",
      "Back in Gary, Maria Rodriguez watches the setting sun cast long shadows over the US Steel plant. The clang of metal continues, but it's a mournful sound, a constant reminder of the precarious tightrope the US economy is walking, balanced precariously on the promises and pitfalls of tariffs. Whether the nation can navigate this economic landscape without falling remains to be seen.\n",
      "\n"
     ]
    }
   ],
   "source": [
    "model_config = types.GenerateContentConfig(\n",
    "    temperature = 1.0,\n",
    "    top_p = 0.95\n",
    ")\n",
    "\n",
    "story_prompt = \"You are a news reporter. Write a short story about the impact of tariff\\'s on US economy.\"\n",
    "\n",
    "response = client.models.generate_content(\n",
    "    model = 'gemini-2.0-flash',\n",
    "    config = model_config,\n",
    "    contents = story_prompt\n",
    ")\n",
    "\n",
    "print(response.text)"
   ]
  },
  {
   "cell_type": "code",
   "execution_count": 16,
   "id": "61e22c4a",
   "metadata": {
    "execution": {
     "iopub.execute_input": "2025-04-06T16:12:14.089983Z",
     "iopub.status.busy": "2025-04-06T16:12:14.089143Z",
     "iopub.status.idle": "2025-04-06T16:13:15.992867Z",
     "shell.execute_reply": "2025-04-06T16:13:15.991734Z"
    },
    "papermill": {
     "duration": 61.917936,
     "end_time": "2025-04-06T16:13:15.999812",
     "exception": false,
     "start_time": "2025-04-06T16:12:14.081876",
     "status": "completed"
    },
    "tags": []
   },
   "outputs": [
    {
     "name": "stdout",
     "output_type": "stream",
     "text": [
      "POSITIVE\n",
      "\n"
     ]
    }
   ],
   "source": [
    "model_config = types.GenerateContentConfig(\n",
    "    temperature = 0.1,\n",
    "    top_p = 1,\n",
    "    max_output_tokens = 5\n",
    ")\n",
    "\n",
    "zero_shot_prompt = \"\"\"Classify movie reviews as POSITIVE, NEUTRAL or NEGATIVE.\n",
    "Review: \"Her\" is a disturbing study revealing the direction\n",
    "humanity is headed if AI is allowed to keep evolving,\n",
    "unchecked. I wish there were more movies like this masterpiece.\n",
    "Sentiment: \"\"\"\n",
    "\n",
    "response = client.models.generate_content(\n",
    "    model = 'gemini-2.0-flash',\n",
    "    config = model_config,\n",
    "    contents = zero_shot_prompt\n",
    ")\n",
    "\n",
    "print(response.text)"
   ]
  },
  {
   "cell_type": "code",
   "execution_count": 17,
   "id": "c65e7343",
   "metadata": {
    "execution": {
     "iopub.execute_input": "2025-04-06T16:13:16.013924Z",
     "iopub.status.busy": "2025-04-06T16:13:16.013508Z",
     "iopub.status.idle": "2025-04-06T16:13:16.791405Z",
     "shell.execute_reply": "2025-04-06T16:13:16.790040Z"
    },
    "papermill": {
     "duration": 0.787144,
     "end_time": "2025-04-06T16:13:16.793364",
     "exception": false,
     "start_time": "2025-04-06T16:13:16.006220",
     "status": "completed"
    },
    "tags": []
   },
   "outputs": [
    {
     "name": "stdout",
     "output_type": "stream",
     "text": [
      "positive\n"
     ]
    }
   ],
   "source": [
    "import enum\n",
    "\n",
    "class Sentiment(enum.Enum):\n",
    "    POSITIVE = \"positive\"\n",
    "    NEUTRAL = \"neutral\"\n",
    "    NEGATIVE = \"negative\"\n",
    "\n",
    "response = client.models.generate_content(\n",
    "    model = 'gemini-2.0-flash',\n",
    "    config = types.GenerateContentConfig(\n",
    "        response_mime_type = 'text/x.enum',\n",
    "        response_schema = Sentiment\n",
    "    ),\n",
    "    contents = zero_shot_prompt\n",
    ")\n",
    "print(response.text)"
   ]
  },
  {
   "cell_type": "code",
   "execution_count": 18,
   "id": "2ad44eb2",
   "metadata": {
    "execution": {
     "iopub.execute_input": "2025-04-06T16:13:16.809105Z",
     "iopub.status.busy": "2025-04-06T16:13:16.808701Z",
     "iopub.status.idle": "2025-04-06T16:13:16.814394Z",
     "shell.execute_reply": "2025-04-06T16:13:16.813080Z"
    },
    "papermill": {
     "duration": 0.0156,
     "end_time": "2025-04-06T16:13:16.816138",
     "exception": false,
     "start_time": "2025-04-06T16:13:16.800538",
     "status": "completed"
    },
    "tags": []
   },
   "outputs": [
    {
     "name": "stdout",
     "output_type": "stream",
     "text": [
      "Sentiment.POSITIVE\n",
      "<enum 'Sentiment'>\n"
     ]
    }
   ],
   "source": [
    "enum_response = response.parsed\n",
    "print(enum_response)\n",
    "print(type(enum_response))"
   ]
  },
  {
   "cell_type": "code",
   "execution_count": 19,
   "id": "c2ced35d",
   "metadata": {
    "execution": {
     "iopub.execute_input": "2025-04-06T16:13:16.832025Z",
     "iopub.status.busy": "2025-04-06T16:13:16.831572Z",
     "iopub.status.idle": "2025-04-06T16:13:17.375890Z",
     "shell.execute_reply": "2025-04-06T16:13:17.374448Z"
    },
    "papermill": {
     "duration": 0.554615,
     "end_time": "2025-04-06T16:13:17.377836",
     "exception": false,
     "start_time": "2025-04-06T16:13:16.823221",
     "status": "completed"
    },
    "tags": []
   },
   "outputs": [
    {
     "name": "stdout",
     "output_type": "stream",
     "text": [
      "```json\n",
      "{\n",
      "  \"size\": \"medium\",\n",
      "  \"type\": \"normal\",\n",
      "  \"ingredients\": [\"paneer\", \"olives\"]\n",
      "}\n",
      "```\n",
      "\n"
     ]
    }
   ],
   "source": [
    "few_shot_prompt = \"\"\"Parse a customer's pizza order into valid JSON:\n",
    "\n",
    "EXAMPLE:\n",
    "I want a small pizza with cheese, tomato sauce, and pepperoni.\n",
    "JSON Response:\n",
    "```\n",
    "{\n",
    "\"size\": \"small\",\n",
    "\"type\": \"normal\",\n",
    "\"ingredients\": [\"cheese\", \"tomato sauce\", \"pepperoni\"]\n",
    "}\n",
    "```\n",
    "\n",
    "EXAMPLE:\n",
    "Can I get a large pizza with tomato sauce, basil and mozzarella\n",
    "JSON Response:\n",
    "```\n",
    "{\n",
    "\"size\": \"large\",\n",
    "\"type\": \"normal\",\n",
    "\"ingredients\": [\"tomato sauce\", \"basil\", \"mozzarella\"]\n",
    "}\n",
    "```\n",
    "\n",
    "ORDER:\n",
    "\"\"\"\n",
    "\n",
    "customer_order = \"Give me a medium pizza with paneer and olives\"\n",
    "\n",
    "response = client.models.generate_content(\n",
    "    model = 'gemini-2.0-flash',\n",
    "    config = types.GenerateContentConfig(\n",
    "        temperature = 0.1,\n",
    "        top_p = 1,\n",
    "        max_output_tokens = 250\n",
    "    ),\n",
    "    contents = [few_shot_prompt , customer_order]\n",
    ")\n",
    "\n",
    "print(response.text)"
   ]
  },
  {
   "cell_type": "code",
   "execution_count": 20,
   "id": "d613a4b0",
   "metadata": {
    "execution": {
     "iopub.execute_input": "2025-04-06T16:13:17.392452Z",
     "iopub.status.busy": "2025-04-06T16:13:17.392114Z",
     "iopub.status.idle": "2025-04-06T16:13:18.067565Z",
     "shell.execute_reply": "2025-04-06T16:13:18.066413Z"
    },
    "papermill": {
     "duration": 0.685239,
     "end_time": "2025-04-06T16:13:18.069835",
     "exception": false,
     "start_time": "2025-04-06T16:13:17.384596",
     "status": "completed"
    },
    "tags": []
   },
   "outputs": [
    {
     "name": "stdout",
     "output_type": "stream",
     "text": [
      "{\n",
      "  \"size\": \"small\",\n",
      "  \"ingredients\": [\"pineapple\", \"figs\"],\n",
      "  \"type\": \"pizza\"\n",
      "}\n"
     ]
    }
   ],
   "source": [
    "import typing_extensions as typing\n",
    "\n",
    "class PizzaOrder(typing.TypedDict):\n",
    "    size: str\n",
    "    ingredients: list[str]\n",
    "    type: str\n",
    "\n",
    "response = client.models.generate_content(\n",
    "    model = 'gemini-2.0-flash',\n",
    "    config = types.GenerateContentConfig(\n",
    "        temperature = 0.1,\n",
    "        response_mime_type = \"application/json\",\n",
    "        response_schema = PizzaOrder\n",
    "    ),\n",
    "    contents = \"Can I have a small pizza with pineapple and figs\"\n",
    ")\n",
    "print(response.text)"
   ]
  }
 ],
 "metadata": {
  "kaggle": {
   "accelerator": "none",
   "dataSources": [],
   "dockerImageVersionId": 30918,
   "isGpuEnabled": false,
   "isInternetEnabled": true,
   "language": "python",
   "sourceType": "notebook"
  },
  "kernelspec": {
   "display_name": "Python 3",
   "language": "python",
   "name": "python3"
  },
  "language_info": {
   "codemirror_mode": {
    "name": "ipython",
    "version": 3
   },
   "file_extension": ".py",
   "mimetype": "text/x-python",
   "name": "python",
   "nbconvert_exporter": "python",
   "pygments_lexer": "ipython3",
   "version": "3.10.12"
  },
  "papermill": {
   "default_parameters": {},
   "duration": 100.38033,
   "end_time": "2025-04-06T16:13:18.798718",
   "environment_variables": {},
   "exception": null,
   "input_path": "__notebook__.ipynb",
   "output_path": "__notebook__.ipynb",
   "parameters": {},
   "start_time": "2025-04-06T16:11:38.418388",
   "version": "2.6.0"
  }
 },
 "nbformat": 4,
 "nbformat_minor": 5
}
